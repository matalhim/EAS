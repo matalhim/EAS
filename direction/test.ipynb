{
 "cells": [
  {
   "cell_type": "code",
   "execution_count": 1,
   "metadata": {},
   "outputs": [],
   "source": [
    "import lightgbm as lgb\n",
    "from sklearn.metrics import mean_squared_error\n",
    "from tqdm import tqdm\n",
    "import matplotlib.pyplot as plt\n",
    "import seaborn as sns\n",
    "from sklearn.model_selection import train_test_split\n",
    "import pandas as pd\n",
    "import numpy as np"
   ]
  },
  {
   "cell_type": "code",
   "execution_count": 2,
   "metadata": {},
   "outputs": [],
   "source": [
    "plt.style.use('ggplot')"
   ]
  },
  {
   "cell_type": "code",
   "execution_count": 3,
   "metadata": {},
   "outputs": [
    {
     "data": {
      "text/html": [
       "<div>\n",
       "<style scoped>\n",
       "    .dataframe tbody tr th:only-of-type {\n",
       "        vertical-align: middle;\n",
       "    }\n",
       "\n",
       "    .dataframe tbody tr th {\n",
       "        vertical-align: top;\n",
       "    }\n",
       "\n",
       "    .dataframe thead th {\n",
       "        text-align: right;\n",
       "    }\n",
       "</style>\n",
       "<table border=\"1\" class=\"dataframe\">\n",
       "  <thead>\n",
       "    <tr style=\"text-align: right;\">\n",
       "      <th></th>\n",
       "      <th>cluster</th>\n",
       "      <th>station</th>\n",
       "      <th>X</th>\n",
       "      <th>Y</th>\n",
       "      <th>Z</th>\n",
       "    </tr>\n",
       "  </thead>\n",
       "  <tbody>\n",
       "    <tr>\n",
       "      <th>0</th>\n",
       "      <td>1</td>\n",
       "      <td>1.1</td>\n",
       "      <td>-25.359</td>\n",
       "      <td>5.885</td>\n",
       "      <td>-6.684</td>\n",
       "    </tr>\n",
       "    <tr>\n",
       "      <th>1</th>\n",
       "      <td>1</td>\n",
       "      <td>1.2</td>\n",
       "      <td>-37.609</td>\n",
       "      <td>5.885</td>\n",
       "      <td>-6.684</td>\n",
       "    </tr>\n",
       "  </tbody>\n",
       "</table>\n",
       "</div>"
      ],
      "text/plain": [
       "   cluster  station       X      Y      Z\n",
       "0        1      1.1 -25.359  5.885 -6.684\n",
       "1        1      1.2 -37.609  5.885 -6.684"
      ]
     },
     "execution_count": 3,
     "metadata": {},
     "output_type": "execute_result"
    }
   ],
   "source": [
    "coordinates_df = pd.read_csv('../data/coordinates.csv')\n",
    "coordinates_df.head(2)"
   ]
  },
  {
   "cell_type": "code",
   "execution_count": 4,
   "metadata": {},
   "outputs": [],
   "source": [
    "def calculate_relative_times(theta_deg, phi_deg, coordinates_df):\n",
    "    \"\"\"\n",
    "    Рассчитывает относительное время срабатывания станций для заданных углов θ и φ.\n",
    "\n",
    "    Parameters:\n",
    "    -----------\n",
    "    theta_deg : float\n",
    "        Зенитный угол (в градусах).\n",
    "    phi_deg : float\n",
    "        Азимутальный угол (в градусах).\n",
    "    coordinates_df : pd.DataFrame\n",
    "        Таблица с координатами станций, содержащая столбцы ['X', 'Y', 'Z'].\n",
    "\n",
    "    Returns:\n",
    "    --------\n",
    "    list\n",
    "        Список вида [(x1, y1, z1, t1), (x2, y2, z2, t2), ...] для всех станций,\n",
    "        отсортированный по времени срабатывания.\n",
    "    \"\"\"\n",
    "    C = 299792458e-9\n",
    "\n",
    "    theta = np.radians(theta_deg)\n",
    "    phi = np.radians(phi_deg)\n",
    "\n",
    "    v = np.array([\n",
    "        np.sin(theta) * np.cos(phi),\n",
    "        np.sin(theta) * np.sin(phi),\n",
    "        np.cos(theta)\n",
    "    ])\n",
    "\n",
    "    coordinates_df = coordinates_df.copy()\n",
    "    coordinates_df[\"time\"] = -(coordinates_df[[\"X\", \"Y\", \"Z\"]].values @ v) / C\n",
    "\n",
    "    coordinates_df[\"relative_time\"] = coordinates_df[\"time\"] - \\\n",
    "        coordinates_df[\"time\"].min()\n",
    "\n",
    "    sequence = [\n",
    "        (row.X, row.Y, row.Z, row.relative_time)\n",
    "        for row in coordinates_df.itertuples()\n",
    "    ]\n",
    "    return sequence"
   ]
  },
  {
   "cell_type": "code",
   "execution_count": 9,
   "metadata": {},
   "outputs": [],
   "source": [
    "def generate_dataset(theta_list, phi_list, coordinates_df):\n",
    "    dataset = []\n",
    "\n",
    "    total_iterations = len(theta_list) * len(phi_list)\n",
    "    with tqdm(total=total_iterations, desc=\"Generating dataset\", unit=\"iteration\") as pbar:\n",
    "        for theta in theta_list:\n",
    "            for phi in phi_list:\n",
    "                sequence = calculate_relative_times(theta, phi, coordinates_df)\n",
    "\n",
    "                relative_times = [row[3] for row in sequence]\n",
    "\n",
    "                row_data = relative_times + [theta, phi]\n",
    "                dataset.append(row_data)\n",
    "\n",
    "                pbar.update(1)\n",
    "\n",
    "    column_names = [\n",
    "        f't_{i+1}' for i in range(len(coordinates_df))] + ['theta', 'phi']\n",
    "\n",
    "    dataset_df = pd.DataFrame(dataset, columns=column_names)\n",
    "\n",
    "    return dataset_df"
   ]
  },
  {
   "cell_type": "code",
   "execution_count": 124,
   "metadata": {},
   "outputs": [],
   "source": [
    "def generate_dataset1(theta, phi, coordinates_df):\n",
    "    dataset = []\n",
    "\n",
    "    total_iterations = len(theta)\n",
    "    with tqdm(total=total_iterations, desc=\"Generating dataset\", unit=\"iteration\") as pbar:\n",
    "        for i in range(len(theta)):\n",
    "            sequence = calculate_relative_times(\n",
    "                theta[i], phi[i], coordinates_df)\n",
    "\n",
    "            relative_times = [row[3] for row in sequence]\n",
    "\n",
    "            row_data = relative_times + [theta[i], phi[i]]\n",
    "            dataset.append(row_data)\n",
    "\n",
    "            pbar.update(1)\n",
    "\n",
    "    column_names = [\n",
    "        f't_{i+1}' for i in range(len(coordinates_df))] + ['theta', 'phi']\n",
    "\n",
    "    dataset_df = pd.DataFrame(dataset, columns=column_names)\n",
    "\n",
    "    return dataset_df"
   ]
  },
  {
   "cell_type": "code",
   "execution_count": 236,
   "metadata": {},
   "outputs": [],
   "source": [
    "phi_list = list(np.arange(182, 270, 0.1)) + list(np.arange(271, 360, 0.1))\n",
    "theta_list = list(np.arange(1, 89.5, 0.1)) * 2"
   ]
  },
  {
   "cell_type": "code",
   "execution_count": 237,
   "metadata": {},
   "outputs": [
    {
     "name": "stdout",
     "output_type": "stream",
     "text": [
      "1770 1770\n"
     ]
    }
   ],
   "source": [
    "print(len(phi_list), len(theta_list))"
   ]
  },
  {
   "cell_type": "code",
   "execution_count": 238,
   "metadata": {},
   "outputs": [
    {
     "name": "stderr",
     "output_type": "stream",
     "text": [
      "Generating dataset: 100%|██████████| 1770/1770 [00:15<00:00, 117.08iteration/s]\n"
     ]
    },
    {
     "data": {
      "text/html": [
       "<div>\n",
       "<style scoped>\n",
       "    .dataframe tbody tr th:only-of-type {\n",
       "        vertical-align: middle;\n",
       "    }\n",
       "\n",
       "    .dataframe tbody tr th {\n",
       "        vertical-align: top;\n",
       "    }\n",
       "\n",
       "    .dataframe thead th {\n",
       "        text-align: right;\n",
       "    }\n",
       "</style>\n",
       "<table border=\"1\" class=\"dataframe\">\n",
       "  <thead>\n",
       "    <tr style=\"text-align: right;\">\n",
       "      <th></th>\n",
       "      <th>t_1</th>\n",
       "      <th>t_2</th>\n",
       "      <th>t_3</th>\n",
       "      <th>t_4</th>\n",
       "      <th>t_5</th>\n",
       "      <th>t_6</th>\n",
       "      <th>t_7</th>\n",
       "      <th>t_8</th>\n",
       "      <th>t_9</th>\n",
       "      <th>t_10</th>\n",
       "      <th>...</th>\n",
       "      <th>t_29</th>\n",
       "      <th>t_30</th>\n",
       "      <th>t_31</th>\n",
       "      <th>t_32</th>\n",
       "      <th>t_33</th>\n",
       "      <th>t_34</th>\n",
       "      <th>t_35</th>\n",
       "      <th>t_36</th>\n",
       "      <th>theta</th>\n",
       "      <th>phi</th>\n",
       "    </tr>\n",
       "  </thead>\n",
       "  <tbody>\n",
       "    <tr>\n",
       "      <th>0</th>\n",
       "      <td>21.254080</td>\n",
       "      <td>20.541382</td>\n",
       "      <td>20.514564</td>\n",
       "      <td>21.227262</td>\n",
       "      <td>21.317977</td>\n",
       "      <td>20.605278</td>\n",
       "      <td>20.578460</td>\n",
       "      <td>21.291158</td>\n",
       "      <td>0.828115</td>\n",
       "      <td>0.051361</td>\n",
       "      <td>...</td>\n",
       "      <td>53.323589</td>\n",
       "      <td>53.506503</td>\n",
       "      <td>53.475419</td>\n",
       "      <td>51.791695</td>\n",
       "      <td>23.340979</td>\n",
       "      <td>22.765606</td>\n",
       "      <td>22.654190</td>\n",
       "      <td>23.146186</td>\n",
       "      <td>1.0</td>\n",
       "      <td>182.0</td>\n",
       "    </tr>\n",
       "    <tr>\n",
       "      <th>1</th>\n",
       "      <td>21.151727</td>\n",
       "      <td>20.367815</td>\n",
       "      <td>20.336841</td>\n",
       "      <td>21.120753</td>\n",
       "      <td>21.225524</td>\n",
       "      <td>20.441613</td>\n",
       "      <td>20.410639</td>\n",
       "      <td>21.194550</td>\n",
       "      <td>0.913687</td>\n",
       "      <td>0.059320</td>\n",
       "      <td>...</td>\n",
       "      <td>53.605581</td>\n",
       "      <td>53.700099</td>\n",
       "      <td>53.664198</td>\n",
       "      <td>52.068918</td>\n",
       "      <td>23.228599</td>\n",
       "      <td>22.584066</td>\n",
       "      <td>22.468309</td>\n",
       "      <td>23.029465</td>\n",
       "      <td>1.1</td>\n",
       "      <td>182.1</td>\n",
       "    </tr>\n",
       "    <tr>\n",
       "      <th>2</th>\n",
       "      <td>21.049702</td>\n",
       "      <td>20.194592</td>\n",
       "      <td>20.159194</td>\n",
       "      <td>21.014304</td>\n",
       "      <td>21.134039</td>\n",
       "      <td>20.278929</td>\n",
       "      <td>20.243531</td>\n",
       "      <td>21.098641</td>\n",
       "      <td>0.999757</td>\n",
       "      <td>0.067792</td>\n",
       "      <td>...</td>\n",
       "      <td>53.887279</td>\n",
       "      <td>53.893415</td>\n",
       "      <td>53.852386</td>\n",
       "      <td>52.345540</td>\n",
       "      <td>23.115898</td>\n",
       "      <td>22.402221</td>\n",
       "      <td>22.281841</td>\n",
       "      <td>22.912146</td>\n",
       "      <td>1.2</td>\n",
       "      <td>182.2</td>\n",
       "    </tr>\n",
       "    <tr>\n",
       "      <th>3</th>\n",
       "      <td>20.948006</td>\n",
       "      <td>20.021713</td>\n",
       "      <td>19.981624</td>\n",
       "      <td>20.907917</td>\n",
       "      <td>21.043522</td>\n",
       "      <td>20.117228</td>\n",
       "      <td>20.077139</td>\n",
       "      <td>21.003433</td>\n",
       "      <td>1.086324</td>\n",
       "      <td>0.076777</td>\n",
       "      <td>...</td>\n",
       "      <td>54.168679</td>\n",
       "      <td>54.086449</td>\n",
       "      <td>54.039982</td>\n",
       "      <td>52.621560</td>\n",
       "      <td>23.002879</td>\n",
       "      <td>22.220071</td>\n",
       "      <td>22.094790</td>\n",
       "      <td>22.794229</td>\n",
       "      <td>1.3</td>\n",
       "      <td>182.3</td>\n",
       "    </tr>\n",
       "    <tr>\n",
       "      <th>4</th>\n",
       "      <td>20.846643</td>\n",
       "      <td>19.849180</td>\n",
       "      <td>19.804132</td>\n",
       "      <td>20.801594</td>\n",
       "      <td>20.953973</td>\n",
       "      <td>19.956511</td>\n",
       "      <td>19.911463</td>\n",
       "      <td>20.908925</td>\n",
       "      <td>1.173386</td>\n",
       "      <td>0.086274</td>\n",
       "      <td>...</td>\n",
       "      <td>54.449778</td>\n",
       "      <td>54.279197</td>\n",
       "      <td>54.226982</td>\n",
       "      <td>52.896973</td>\n",
       "      <td>22.889544</td>\n",
       "      <td>22.037619</td>\n",
       "      <td>21.907157</td>\n",
       "      <td>22.675716</td>\n",
       "      <td>1.4</td>\n",
       "      <td>182.4</td>\n",
       "    </tr>\n",
       "  </tbody>\n",
       "</table>\n",
       "<p>5 rows × 38 columns</p>\n",
       "</div>"
      ],
      "text/plain": [
       "         t_1        t_2        t_3        t_4        t_5        t_6  \\\n",
       "0  21.254080  20.541382  20.514564  21.227262  21.317977  20.605278   \n",
       "1  21.151727  20.367815  20.336841  21.120753  21.225524  20.441613   \n",
       "2  21.049702  20.194592  20.159194  21.014304  21.134039  20.278929   \n",
       "3  20.948006  20.021713  19.981624  20.907917  21.043522  20.117228   \n",
       "4  20.846643  19.849180  19.804132  20.801594  20.953973  19.956511   \n",
       "\n",
       "         t_7        t_8       t_9      t_10  ...       t_29       t_30  \\\n",
       "0  20.578460  21.291158  0.828115  0.051361  ...  53.323589  53.506503   \n",
       "1  20.410639  21.194550  0.913687  0.059320  ...  53.605581  53.700099   \n",
       "2  20.243531  21.098641  0.999757  0.067792  ...  53.887279  53.893415   \n",
       "3  20.077139  21.003433  1.086324  0.076777  ...  54.168679  54.086449   \n",
       "4  19.911463  20.908925  1.173386  0.086274  ...  54.449778  54.279197   \n",
       "\n",
       "        t_31       t_32       t_33       t_34       t_35       t_36  theta  \\\n",
       "0  53.475419  51.791695  23.340979  22.765606  22.654190  23.146186    1.0   \n",
       "1  53.664198  52.068918  23.228599  22.584066  22.468309  23.029465    1.1   \n",
       "2  53.852386  52.345540  23.115898  22.402221  22.281841  22.912146    1.2   \n",
       "3  54.039982  52.621560  23.002879  22.220071  22.094790  22.794229    1.3   \n",
       "4  54.226982  52.896973  22.889544  22.037619  21.907157  22.675716    1.4   \n",
       "\n",
       "     phi  \n",
       "0  182.0  \n",
       "1  182.1  \n",
       "2  182.2  \n",
       "3  182.3  \n",
       "4  182.4  \n",
       "\n",
       "[5 rows x 38 columns]"
      ]
     },
     "execution_count": 238,
     "metadata": {},
     "output_type": "execute_result"
    }
   ],
   "source": [
    "my_dataset = generate_dataset1(theta_list, phi_list, coordinates_df)\n",
    "my_dataset.head(5)"
   ]
  },
  {
   "cell_type": "code",
   "execution_count": 239,
   "metadata": {},
   "outputs": [],
   "source": [
    "X_events = my_dataset.drop(columns=['theta', 'phi']).values\n",
    "y_events = my_dataset[['theta', 'phi']].values"
   ]
  },
  {
   "cell_type": "code",
   "execution_count": 271,
   "metadata": {},
   "outputs": [],
   "source": [
    "X_train, X_test, y_train, y_test = train_test_split(\n",
    "    X_events, y_events, test_size=0.2, random_state=4)"
   ]
  },
  {
   "cell_type": "code",
   "execution_count": 272,
   "metadata": {},
   "outputs": [],
   "source": [
    "train_data_theta = lgb.Dataset(X_train, label=y_train[:, 0])\n",
    "train_data_phi = lgb.Dataset(X_train, label=y_train[:, 1])"
   ]
  },
  {
   "cell_type": "code",
   "execution_count": 273,
   "metadata": {},
   "outputs": [],
   "source": [
    "params = {\n",
    "    'objective': 'regression',\n",
    "    'metric': 'l2',\n",
    "    'num_threads': 10,\n",
    "}"
   ]
  },
  {
   "cell_type": "code",
   "execution_count": 274,
   "metadata": {},
   "outputs": [
    {
     "name": "stderr",
     "output_type": "stream",
     "text": [
      "Training LightGBM: 200iteration [00:28,  7.04iteration/s] ion/s]\n"
     ]
    }
   ],
   "source": [
    "pbar = tqdm(total=50, desc=\"Training LightGBM\", unit=\"iteration\")\n",
    "\n",
    "\n",
    "def tqdm_callback(env):\n",
    "    pbar.update(1)"
   ]
  },
  {
   "cell_type": "code",
   "execution_count": 275,
   "metadata": {},
   "outputs": [
    {
     "name": "stderr",
     "output_type": "stream",
     "text": [
      "Training LightGBM:  78%|███████▊  | 39/50 [00:00<00:00, 175.37iteration/s]"
     ]
    },
    {
     "name": "stdout",
     "output_type": "stream",
     "text": [
      "[LightGBM] [Info] Auto-choosing col-wise multi-threading, the overhead of testing was 0.000715 seconds.\n",
      "You can set `force_col_wise=true` to remove the overhead.\n",
      "[LightGBM] [Info] Total Bins 9180\n",
      "[LightGBM] [Info] Number of data points in the train set: 1416, number of used features: 36\n",
      "[LightGBM] [Info] Start training from score 44.876766\n"
     ]
    },
    {
     "name": "stderr",
     "output_type": "stream",
     "text": [
      "Training LightGBM: 95iteration [00:00, 225.36iteration/s]                 "
     ]
    }
   ],
   "source": [
    "clf_theta = lgb.train(params,\n",
    "                      train_data_theta,\n",
    "                      num_boost_round=100,\n",
    "                      valid_sets=[train_data_theta],\n",
    "                      valid_names=['train'],\n",
    "                      callbacks=[tqdm_callback])"
   ]
  },
  {
   "cell_type": "code",
   "execution_count": 276,
   "metadata": {},
   "outputs": [
    {
     "name": "stderr",
     "output_type": "stream",
     "text": [
      "Training LightGBM: 180iteration [00:00, 341.00iteration/s]"
     ]
    },
    {
     "name": "stdout",
     "output_type": "stream",
     "text": [
      "[LightGBM] [Info] Auto-choosing col-wise multi-threading, the overhead of testing was 0.000804 seconds.\n",
      "You can set `force_col_wise=true` to remove the overhead.\n",
      "[LightGBM] [Info] Total Bins 9180\n",
      "[LightGBM] [Info] Number of data points in the train set: 1416, number of used features: 36\n",
      "[LightGBM] [Info] Start training from score 270.693503\n"
     ]
    }
   ],
   "source": [
    "clf_phi = lgb.train(params,\n",
    "                    train_data_phi,\n",
    "                    num_boost_round=100,\n",
    "                    valid_sets=[train_data_phi],\n",
    "                    valid_names=['train'],\n",
    "                    callbacks=[tqdm_callback])"
   ]
  },
  {
   "cell_type": "code",
   "execution_count": 277,
   "metadata": {},
   "outputs": [
    {
     "name": "stderr",
     "output_type": "stream",
     "text": [
      "c:\\Users\\matsvei\\.ai-navigator\\conda\\Lib\\site-packages\\sklearn\\metrics\\_regression.py:492: FutureWarning: 'squared' is deprecated in version 1.4 and will be removed in 1.6. To calculate the root mean squared error, use the function'root_mean_squared_error'.\n",
      "  warnings.warn(\n",
      "c:\\Users\\matsvei\\.ai-navigator\\conda\\Lib\\site-packages\\sklearn\\metrics\\_regression.py:492: FutureWarning: 'squared' is deprecated in version 1.4 and will be removed in 1.6. To calculate the root mean squared error, use the function'root_mean_squared_error'.\n",
      "  warnings.warn(\n"
     ]
    },
    {
     "data": {
      "image/png": "[encoded data removed]",
      "text/plain": [
       "<Figure size 1200x600 with 2 Axes>"
      ]
     },
     "metadata": {},
     "output_type": "display_data"
    }
   ],
   "source": [
    "y_pred_theta = clf_theta.predict(\n",
    "    X_events, num_iteration=clf_theta.best_iteration)\n",
    "y_pred_phi = clf_phi.predict(X_events, num_iteration=clf_phi.best_iteration)\n",
    "\n",
    "errors_theta = y_events[:, 0] - y_pred_theta\n",
    "errors_phi = y_events[:, 1] - y_pred_phi\n",
    "\n",
    "\n",
    "rmse_theta = mean_squared_error(y_events[:, 0], y_pred_theta, squared=False)\n",
    "rmse_phi = mean_squared_error(y_events[:, 1], y_pred_phi, squared=False)\n",
    "\n",
    "\n",
    "y_events_flat_theta = np.ravel(y_events[:, 0])\n",
    "y_pred_flat_theta = np.ravel(y_pred_theta)\n",
    "\n",
    "y_events_flat_phi = np.ravel(y_events[:, 1])\n",
    "y_pred_flat_phi = np.ravel(y_pred_phi)\n",
    "\n",
    "plt.figure(figsize=(12, 6))\n",
    "\n",
    "plt.subplot(1, 2, 1)\n",
    "plt.hist(errors_theta, bins=50, color='blue', alpha=0.7)\n",
    "plt.title(f'Histogram of Errors (theta): RMSE = {rmse_theta:.4f}')\n",
    "plt.xlabel('Error (True label - Predicted value)')\n",
    "plt.ylabel('Frequency')\n",
    "plt.grid(True)\n",
    "\n",
    "# График для phi\n",
    "plt.subplot(1, 2, 2)\n",
    "plt.hist(errors_phi, bins=50, color='green', alpha=0.7)\n",
    "plt.title(f'Histogram of Errors (phi): RMSE = {rmse_phi:.4f}')\n",
    "plt.xlabel('Error (True label - Predicted value)')\n",
    "plt.ylabel('Frequency')\n",
    "plt.grid(True)\n",
    "\n",
    "plt.tight_layout()\n",
    "plt.show()"
   ]
  },
  {
   "cell_type": "code",
   "execution_count": 278,
   "metadata": {},
   "outputs": [
    {
     "data": {
      "text/plain": [
       "5.729141924285159"
      ]
     },
     "execution_count": 278,
     "metadata": {},
     "output_type": "execute_result"
    }
   ],
   "source": [
    "max(errors_phi)"
   ]
  },
  {
   "cell_type": "code",
   "execution_count": 291,
   "metadata": {},
   "outputs": [
    {
     "name": "stderr",
     "output_type": "stream",
     "text": [
      "c:\\Users\\matsvei\\.ai-navigator\\conda\\Lib\\site-packages\\sklearn\\metrics\\_regression.py:492: FutureWarning: 'squared' is deprecated in version 1.4 and will be removed in 1.6. To calculate the root mean squared error, use the function'root_mean_squared_error'.\n",
      "  warnings.warn(\n"
     ]
    },
    {
     "data": {
      "image/png": "[encoded data removed]",
      "text/plain": [
       "<Figure size 1000x1000 with 1 Axes>"
      ]
     },
     "metadata": {},
     "output_type": "display_data"
    }
   ],
   "source": [
    "y_pred_theta = clf_theta.predict(\n",
    "    X_test, num_iteration=clf_theta.best_iteration)\n",
    "\n",
    "y_pred_phi = clf_phi.predict(\n",
    "    X_test, num_iteration=clf_phi.best_iteration)\n",
    "\n",
    "errors_theta = y_test[:, 0] - y_pred_theta\n",
    "errors_phi = y_test[:, 1] - y_pred_phi\n",
    "\n",
    "rmse_theta = mean_squared_error(y_test[:, 0], y_pred_theta, squared=False)\n",
    "\n",
    "\n",
    "y_events_flat_theta = np.ravel(y_events[:, 0])\n",
    "y_pred_flat_theta = np.ravel(y_pred_theta)\n",
    "\n",
    "y_events_flat_phi = np.ravel(y_events[:, 1])\n",
    "y_pred_flat_phi = np.ravel(y_pred_phi)\n",
    "\n",
    "plt.figure(figsize=(10, 10))\n",
    "\n",
    "plt.scatter(\n",
    "    errors_phi,\n",
    "    errors_theta,\n",
    "    alpha=0.7,\n",
    ")\n",
    "plt.xlabel(r'$\\phi_{true} - \\phi_{pred}$', fontsize=16)\n",
    "plt.ylabel(r'$\\theta_{true} - \\theta_{pred}$', fontsize=16)\n",
    "# xticks = [0, np.pi/6, np.pi/3, np.pi/2]\n",
    "# xtick_labels = [\n",
    "#     r\"$0$\",\n",
    "#     r\"$\\pi/6$\",\n",
    "#     r\"$\\pi/3$\",\n",
    "#     r\"$\\pi/2$\"\n",
    "# ]\n",
    "# plt.xticks(xticks, xtick_labels)\n",
    "plt.grid(True)\n",
    "plt.savefig('plots/test_theta_vs_phi_diif.png')\n",
    "plt.show()"
   ]
  },
  {
   "cell_type": "code",
   "execution_count": null,
   "metadata": {},
   "outputs": [
    {
     "name": "stdout",
     "output_type": "stream",
     "text": [
      "359.8000000000202 357.7017821952196\n",
      "274.9000000000009 272.15254380080296\n",
      "359.9000000000202 357.7017821952196\n"
     ]
    },
    {
     "name": "stderr",
     "output_type": "stream",
     "text": []
    }
   ],
   "source": [
    "for i in range(len(y_pred_phi)):\n",
    "    if abs(y_test[:, 1][i] - y_pred_phi[i]) > 2:\n",
    "        print(y_test[:, 1][i], y_pred_phi[i])"
   ]
  },
  {
   "cell_type": "code",
   "execution_count": null,
   "metadata": {},
   "outputs": [],
   "source": []
  }
 ],
 "metadata": {
  "kernelspec": {
   "display_name": "base",
   "language": "python",
   "name": "python3"
  },
  "language_info": {
   "codemirror_mode": {
    "name": "ipython",
    "version": 3
   },
   "file_extension": ".py",
   "mimetype": "text/x-python",
   "name": "python",
   "nbconvert_exporter": "python",
   "pygments_lexer": "ipython3",
   "version": "3.12.3"
  }
 },
 "nbformat": 4,
 "nbformat_minor": 2
}
