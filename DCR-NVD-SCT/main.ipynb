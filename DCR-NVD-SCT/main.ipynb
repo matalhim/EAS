{
 "cells": [
  {
   "cell_type": "code",
   "execution_count": 1,
   "metadata": {},
   "outputs": [],
   "source": [
    "import pandas as pd"
   ]
  },
  {
   "cell_type": "code",
   "execution_count": 8,
   "metadata": {},
   "outputs": [
    {
     "data": {
      "text/html": [
       "<div>\n",
       "<style scoped>\n",
       "    .dataframe tbody tr th:only-of-type {\n",
       "        vertical-align: middle;\n",
       "    }\n",
       "\n",
       "    .dataframe tbody tr th {\n",
       "        vertical-align: top;\n",
       "    }\n",
       "\n",
       "    .dataframe thead th {\n",
       "        text-align: right;\n",
       "    }\n",
       "</style>\n",
       "<table border=\"1\" class=\"dataframe\">\n",
       "  <thead>\n",
       "    <tr style=\"text-align: right;\">\n",
       "      <th></th>\n",
       "      <th>RUN</th>\n",
       "      <th>Event</th>\n",
       "      <th>Teta</th>\n",
       "      <th>Fi</th>\n",
       "      <th>Nview</th>\n",
       "      <th>NviewCorr</th>\n",
       "      <th>Sdet</th>\n",
       "      <th>Dens</th>\n",
       "      <th>DensCorr</th>\n",
       "      <th>NgoodPMT</th>\n",
       "      <th>NhitPMT</th>\n",
       "      <th>SumNpeGoodCorr</th>\n",
       "      <th>SpecEnDep</th>\n",
       "      <th>NupSCT</th>\n",
       "      <th>NdnSCT</th>\n",
       "    </tr>\n",
       "  </thead>\n",
       "  <tbody>\n",
       "    <tr>\n",
       "      <th>0</th>\n",
       "      <td>810</td>\n",
       "      <td>3336</td>\n",
       "      <td>47.73</td>\n",
       "      <td>197.82</td>\n",
       "      <td>5</td>\n",
       "      <td>5.00226</td>\n",
       "      <td>28.9743</td>\n",
       "      <td>0.100167</td>\n",
       "      <td>0.102477</td>\n",
       "      <td>520</td>\n",
       "      <td>296</td>\n",
       "      <td>4124.71</td>\n",
       "      <td>40250.3</td>\n",
       "      <td>1</td>\n",
       "      <td>1</td>\n",
       "    </tr>\n",
       "    <tr>\n",
       "      <th>1</th>\n",
       "      <td>810</td>\n",
       "      <td>14441</td>\n",
       "      <td>43.43</td>\n",
       "      <td>148.71</td>\n",
       "      <td>5</td>\n",
       "      <td>5.00226</td>\n",
       "      <td>26.9756</td>\n",
       "      <td>0.107589</td>\n",
       "      <td>0.110070</td>\n",
       "      <td>520</td>\n",
       "      <td>286</td>\n",
       "      <td>3753.22</td>\n",
       "      <td>34098.6</td>\n",
       "      <td>2</td>\n",
       "      <td>0</td>\n",
       "    </tr>\n",
       "    <tr>\n",
       "      <th>2</th>\n",
       "      <td>810</td>\n",
       "      <td>20146</td>\n",
       "      <td>41.20</td>\n",
       "      <td>212.96</td>\n",
       "      <td>5</td>\n",
       "      <td>5.00226</td>\n",
       "      <td>25.6804</td>\n",
       "      <td>0.113015</td>\n",
       "      <td>0.115621</td>\n",
       "      <td>520</td>\n",
       "      <td>307</td>\n",
       "      <td>5342.78</td>\n",
       "      <td>46209.5</td>\n",
       "      <td>2</td>\n",
       "      <td>0</td>\n",
       "    </tr>\n",
       "  </tbody>\n",
       "</table>\n",
       "</div>"
      ],
      "text/plain": [
       "   RUN  Event   Teta      Fi  Nview  NviewCorr     Sdet      Dens  DensCorr  \\\n",
       "0  810   3336  47.73  197.82      5    5.00226  28.9743  0.100167  0.102477   \n",
       "1  810  14441  43.43  148.71      5    5.00226  26.9756  0.107589  0.110070   \n",
       "2  810  20146  41.20  212.96      5    5.00226  25.6804  0.113015  0.115621   \n",
       "\n",
       "   NgoodPMT  NhitPMT  SumNpeGoodCorr  SpecEnDep  NupSCT  NdnSCT  \n",
       "0       520      296         4124.71    40250.3       1       1  \n",
       "1       520      286         3753.22    34098.6       2       0  \n",
       "2       520      307         5342.78    46209.5       2       0  "
      ]
     },
     "execution_count": 8,
     "metadata": {},
     "output_type": "execute_result"
    }
   ],
   "source": [
    "df = pd.read_csv('data/810_841.txt', sep='\\t')\n",
    "df.head(3)"
   ]
  },
  {
   "cell_type": "code",
   "execution_count": null,
   "metadata": {},
   "outputs": [],
   "source": []
  }
 ],
 "metadata": {
  "kernelspec": {
   "display_name": "base",
   "language": "python",
   "name": "python3"
  },
  "language_info": {
   "codemirror_mode": {
    "name": "ipython",
    "version": 3
   },
   "file_extension": ".py",
   "mimetype": "text/x-python",
   "name": "python",
   "nbconvert_exporter": "python",
   "pygments_lexer": "ipython3",
   "version": "3.12.3"
  }
 },
 "nbformat": 4,
 "nbformat_minor": 2
}
